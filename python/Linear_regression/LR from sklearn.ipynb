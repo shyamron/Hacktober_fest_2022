{
 "cells": [
  {
   "cell_type": "code",
   "execution_count": 6,
   "id": "397854d8",
   "metadata": {},
   "outputs": [
    {
     "name": "stdout",
     "output_type": "stream",
     "text": [
      "(237, 4)\n"
     ]
    }
   ],
   "source": [
    "import numpy as np\n",
    "import pandas as pd\n",
    "data=pd.read_csv('headbrain.csv')\n",
    "print(data.shape)\n",
    "data.head()\n",
    "x=data['Head Size(cm^3)'].values\n",
    "y=data['Brain Weight(grams)'].values"
   ]
  },
  {
   "cell_type": "code",
   "execution_count": 10,
   "id": "06bdcb7f",
   "metadata": {
    "scrolled": true
   },
   "outputs": [
    {
     "name": "stdout",
     "output_type": "stream",
     "text": [
      "72.1206213783709\n",
      "0.639311719957\n"
     ]
    }
   ],
   "source": [
    "from sklearn.linear_model import LinearRegression\n",
    "from sklearn.metrics import mean_squared_error\n",
    "\n",
    "n=len(x)\n",
    "x=x.reshape(n,1)\n",
    "\n",
    "#fittinf training data\n",
    "reg=LinearRegression()\n",
    "reg=reg.fit(x,y)\n",
    "\n",
    "#y prediction\n",
    "y_pred= reg.predict(x)\n",
    "\n",
    "\n",
    "#calculating rmse and r2 score\n",
    "mse=mean_squared_error(y,y_pred)\n",
    "rmse=np.sqrt(mse)\n",
    "r2=reg.score(x,y)\n",
    "\n",
    "print(np.sqrt(mse))\n",
    "print(r2)"
   ]
  },
  {
   "cell_type": "code",
   "execution_count": null,
   "id": "131e6aca",
   "metadata": {},
   "outputs": [],
   "source": []
  }
 ],
 "metadata": {
  "kernelspec": {
   "display_name": "Python 3 (ipykernel)",
   "language": "python",
   "name": "python3"
  },
  "language_info": {
   "codemirror_mode": {
    "name": "ipython",
    "version": 3
   },
   "file_extension": ".py",
   "mimetype": "text/x-python",
   "name": "python",
   "nbconvert_exporter": "python",
   "pygments_lexer": "ipython3",
   "version": "3.10.6"
  }
 },
 "nbformat": 4,
 "nbformat_minor": 5
}
